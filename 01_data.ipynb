{
 "cells": [
  {
   "cell_type": "code",
   "execution_count": null,
   "id": "b88dbc01",
   "metadata": {
    "vscode": {
     "languageId": "plaintext"
    }
   },
   "outputs": [],
   "source": [
    "import os\n",
    "import requests\n",
    "import pandas as pdfrom dotenv import load_dotenv\n",
    "\n",
    "load_dotenv()"
   ]
  },
  {
   "cell_type": "code",
   "execution_count": null,
   "id": "538fb511",
   "metadata": {
    "vscode": {
     "languageId": "plaintext"
    }
   },
   "outputs": [],
   "source": [
    "from moralis import evm_api\n",
    "\n",
    "api_key = = os.getenv(\"MORALIS_API_KEY\")\n",
    "historicalPrice = []\n",
    "\n",
    "for to_block in range(16323500, 16323550, 10):\n",
    "  params = {\n",
    "    \"address\": \"0x2260fac5e5542a773aa44fbcfedf7c193bc2c599\",\n",
    "    \"chain\": \"eth\",\n",
    "    \"to_block\": to_block\n",
    "  }\n",
    "  result = evm_api.token.get_token_price(\n",
    "    api_key=api_key,\n",
    "    params=params,\n",
    "  )\n",
    "\n",
    "  historicalPrice.append(result)\n",
    "\n",
    "print(historicalPrice)"
   ]
  }
 ],
 "metadata": {
  "language_info": {
   "name": "python"
  }
 },
 "nbformat": 4,
 "nbformat_minor": 5
}
